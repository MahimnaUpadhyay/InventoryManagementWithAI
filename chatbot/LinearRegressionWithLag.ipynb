{
 "cells": [
  {
   "cell_type": "code",
   "execution_count": 1,
   "id": "806ee26c-d97e-43d3-ba6b-fcfe5b2bd32e",
   "metadata": {},
   "outputs": [],
   "source": [
    "import pandas as pd\n",
    "import numpy as np\n",
    "from sklearn.model_selection import train_test_split\n",
    "from sklearn.linear_model import LinearRegression, Ridge\n",
    "from sklearn.metrics import mean_squared_error, r2_score"
   ]
  },
  {
   "cell_type": "code",
   "execution_count": null,
   "id": "f4169f3f-2532-4734-bb99-7872e3418605",
   "metadata": {},
   "outputs": [],
   "source": []
  },
  {
   "cell_type": "code",
   "execution_count": 2,
   "id": "066f0e4a-ef89-4eb1-b08f-35933dea686c",
   "metadata": {},
   "outputs": [],
   "source": [
    "dataset = pd.read_csv('../../datasets/grocery_dataset/Grocery_Inventory.csv')"
   ]
  },
  {
   "cell_type": "code",
   "execution_count": null,
   "id": "06917ed0-38f2-4090-be59-570eb1c0f820",
   "metadata": {},
   "outputs": [],
   "source": []
  },
  {
   "cell_type": "code",
   "execution_count": 3,
   "id": "239af17b-2b5b-4f43-ad6d-6437246c655d",
   "metadata": {},
   "outputs": [],
   "source": [
    "df = dataset[['Catagory', 'Date_Received', 'Last_Order_Date', 'Stock_Quantity', 'Unit_Price', 'Sales_Volume']]"
   ]
  },
  {
   "cell_type": "code",
   "execution_count": null,
   "id": "ae264904-00e0-4945-a45d-56f5fc7511a5",
   "metadata": {},
   "outputs": [],
   "source": []
  },
  {
   "cell_type": "code",
   "execution_count": 4,
   "id": "c11a3b7c-0637-401a-abe6-e2d4b2d3eb91",
   "metadata": {},
   "outputs": [
    {
     "name": "stderr",
     "output_type": "stream",
     "text": [
      "C:\\Users\\Mahimna\\AppData\\Local\\Temp\\ipykernel_6540\\3696563017.py:1: FutureWarning: DataFrame.fillna with 'method' is deprecated and will raise in a future version. Use obj.ffill() or obj.bfill() instead.\n",
      "  df = df.fillna(method='ffill')\n"
     ]
    }
   ],
   "source": [
    "df = df.fillna(method='ffill')\n",
    "\n",
    "df['Unit_Price'] = df['Unit_Price'].replace(r'[\\$,]', '', regex=True).astype(float)\n",
    "\n",
    "df['Date_Received'] = pd.to_datetime(df['Date_Received'])\n",
    "df['Last_Order_Date'] = pd.to_datetime(df['Last_Order_Date'])"
   ]
  },
  {
   "cell_type": "code",
   "execution_count": null,
   "id": "ac75c854-2bf4-411c-8595-c49533f39128",
   "metadata": {},
   "outputs": [],
   "source": []
  },
  {
   "cell_type": "code",
   "execution_count": 5,
   "id": "7f453ba3-6511-4a43-9afa-9dde0e9870e6",
   "metadata": {},
   "outputs": [],
   "source": [
    "df['received_year'] = df['Date_Received'].dt.year\n",
    "df['received_month'] = df['Date_Received'].dt.month\n",
    "df['received_day'] = df['Date_Received'].dt.day\n",
    "\n",
    "df['order_year'] = df['Last_Order_Date'].dt.year\n",
    "df['order_month'] = df['Last_Order_Date'].dt.month\n",
    "df['order_day'] = df['Last_Order_Date'].dt.day"
   ]
  },
  {
   "cell_type": "code",
   "execution_count": 6,
   "id": "b53a6473-e2b2-424b-8760-358cd8107ac1",
   "metadata": {},
   "outputs": [],
   "source": [
    "df['days_between'] = (df['Last_Order_Date'] - df['Date_Received']).dt.days"
   ]
  },
  {
   "cell_type": "code",
   "execution_count": 7,
   "id": "30f32b65-48ca-4dfa-b90f-27e041e5a441",
   "metadata": {},
   "outputs": [
    {
     "name": "stderr",
     "output_type": "stream",
     "text": [
      "C:\\Users\\Mahimna\\AppData\\Local\\Temp\\ipykernel_6540\\2596367736.py:2: FutureWarning: Series.fillna with 'method' is deprecated and will raise in a future version. Use obj.ffill() or obj.bfill() instead.\n",
      "  df[f'sales_lag_{lag}'] = df['Sales_Volume'].shift(lag).fillna(method='bfill')\n",
      "C:\\Users\\Mahimna\\AppData\\Local\\Temp\\ipykernel_6540\\2596367736.py:2: FutureWarning: Series.fillna with 'method' is deprecated and will raise in a future version. Use obj.ffill() or obj.bfill() instead.\n",
      "  df[f'sales_lag_{lag}'] = df['Sales_Volume'].shift(lag).fillna(method='bfill')\n",
      "C:\\Users\\Mahimna\\AppData\\Local\\Temp\\ipykernel_6540\\2596367736.py:2: FutureWarning: Series.fillna with 'method' is deprecated and will raise in a future version. Use obj.ffill() or obj.bfill() instead.\n",
      "  df[f'sales_lag_{lag}'] = df['Sales_Volume'].shift(lag).fillna(method='bfill')\n"
     ]
    }
   ],
   "source": [
    "for lag in [1, 3, 7]:\n",
    "    df[f'sales_lag_{lag}'] = df['Sales_Volume'].shift(lag).fillna(method='bfill')"
   ]
  },
  {
   "cell_type": "code",
   "execution_count": 8,
   "id": "8d7f9e98-6e29-4936-8e57-f316a79a53ba",
   "metadata": {},
   "outputs": [],
   "source": [
    "df['sales_roll_3'] = df['Sales_Volume'].rolling(window=3, min_periods=1).mean()\n",
    "df['sales_roll_7'] = df['Sales_Volume'].rolling(window=7, min_periods=1).mean()"
   ]
  },
  {
   "cell_type": "code",
   "execution_count": 9,
   "id": "69d93980-b4f1-4459-b9cc-a283c0f290cc",
   "metadata": {},
   "outputs": [],
   "source": [
    "df['price_stock'] = df['Unit_Price'] * df['Stock_Quantity']"
   ]
  },
  {
   "cell_type": "code",
   "execution_count": 10,
   "id": "f01aab76-7e49-4c81-ac99-e56a2b754a53",
   "metadata": {},
   "outputs": [],
   "source": [
    "df = df.drop(columns=['Date_Received', 'Last_Order_Date'])"
   ]
  },
  {
   "cell_type": "code",
   "execution_count": null,
   "id": "1690e0aa-c048-48f4-a372-0885c42c9dbc",
   "metadata": {},
   "outputs": [],
   "source": []
  },
  {
   "cell_type": "code",
   "execution_count": 11,
   "id": "a5ceef83-49ef-4148-866d-67a760f2e7de",
   "metadata": {},
   "outputs": [],
   "source": [
    "df = pd.get_dummies(df, columns=['Catagory'], drop_first=True)"
   ]
  },
  {
   "cell_type": "code",
   "execution_count": null,
   "id": "5e485233-18c6-4fb8-a35a-eb52959c7cb3",
   "metadata": {},
   "outputs": [],
   "source": []
  },
  {
   "cell_type": "code",
   "execution_count": 12,
   "id": "10b128a7-15df-401d-a9bd-5ebbbe0bddbc",
   "metadata": {},
   "outputs": [],
   "source": [
    "X = df.drop(columns=['Sales_Volume'])\n",
    "y = df['Sales_Volume']"
   ]
  },
  {
   "cell_type": "code",
   "execution_count": 13,
   "id": "c343cbe8-babd-40d7-b4fb-5de8e20f71ce",
   "metadata": {},
   "outputs": [],
   "source": [
    "X_train, X_test, y_train, y_test = train_test_split(X, y, test_size=0.2, shuffle=False)"
   ]
  },
  {
   "cell_type": "code",
   "execution_count": 14,
   "id": "807adb5a-54b6-43c4-9439-eff868a14885",
   "metadata": {},
   "outputs": [],
   "source": [
    "# model = LinearRegression()\n",
    "model = Ridge(alpha=1.0)\n",
    "model.fit(X_train, y_train)\n",
    "y_pred = model.predict(X_test)"
   ]
  },
  {
   "cell_type": "code",
   "execution_count": null,
   "id": "3fc21d70-0eea-48a8-b3de-4dbf4885b9b1",
   "metadata": {},
   "outputs": [],
   "source": []
  },
  {
   "cell_type": "code",
   "execution_count": 15,
   "id": "438d4d94-57d3-4abf-926e-31f43ef52d6e",
   "metadata": {},
   "outputs": [
    {
     "name": "stdout",
     "output_type": "stream",
     "text": [
      "Linear Regression with lag features RMSE: 16.227183374204017\n",
      "R²: 0.48136490087674266\n"
     ]
    }
   ],
   "source": [
    "rmse = np.sqrt(mean_squared_error(y_test, y_pred))\n",
    "r2 = r2_score(y_test, y_pred)\n",
    "\n",
    "print(\"Linear Regression with lag features RMSE:\", rmse)\n",
    "print(\"R²:\", r2)"
   ]
  },
  {
   "cell_type": "code",
   "execution_count": 16,
   "id": "c363a9fc",
   "metadata": {},
   "outputs": [
    {
     "data": {
      "text/plain": [
       "['feature_columns.pkl']"
      ]
     },
     "execution_count": 16,
     "metadata": {},
     "output_type": "execute_result"
    }
   ],
   "source": [
    "import joblib\n",
    "\n",
    "# Save model\n",
    "joblib.dump(model, \"linear_model.pkl\")\n",
    "\n",
    "# Save feature names\n",
    "joblib.dump(X.columns, \"feature_columns.pkl\")\n"
   ]
  }
 ],
 "metadata": {
  "kernelspec": {
   "display_name": "Python 3",
   "language": "python",
   "name": "python3"
  },
  "language_info": {
   "codemirror_mode": {
    "name": "ipython",
    "version": 3
   },
   "file_extension": ".py",
   "mimetype": "text/x-python",
   "name": "python",
   "nbconvert_exporter": "python",
   "pygments_lexer": "ipython3",
   "version": "3.13.7"
  }
 },
 "nbformat": 4,
 "nbformat_minor": 5
}
